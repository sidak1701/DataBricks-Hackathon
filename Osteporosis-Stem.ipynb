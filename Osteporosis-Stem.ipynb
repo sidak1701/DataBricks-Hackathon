{
 "cells": [
  {
   "cell_type": "code",
   "execution_count": 0,
   "metadata": {
    "application/vnd.databricks.v1+cell": {
     "cellMetadata": {
      "byteLimit": 2048000,
      "rowLimit": 10000
     },
     "inputWidgets": {},
     "nuid": "f372786b-4f66-4b19-85c3-0d0d560b98fb",
     "showTitle": false,
     "tableResultSettingsMap": {},
     "title": ""
    }
   },
   "outputs": [],
   "source": [
    "%pip install -U -qqq langchain_core langchain_databricks langchain_community\n",
    "%restart_python"
   ]
  },
  {
   "cell_type": "code",
   "execution_count": 0,
   "metadata": {
    "application/vnd.databricks.v1+cell": {
     "cellMetadata": {
      "byteLimit": 2048000,
      "rowLimit": 10000
     },
     "inputWidgets": {},
     "nuid": "11a3317e-72f1-4821-961c-d374b4dc4cbf",
     "showTitle": false,
     "tableResultSettingsMap": {},
     "title": ""
    }
   },
   "outputs": [],
   "source": [
    "\n",
    "import pandas as pd\n",
    "from langchain_core.prompts import PromptTemplate\n",
    "from langchain_core.output_parsers import StrOutputParser\n",
    "from langchain_databricks import ChatDatabricks\n",
    "from databricks.sdk import WorkspaceClient\n",
    "import os\n"
   ]
  },
  {
   "cell_type": "code",
   "execution_count": 0,
   "metadata": {
    "application/vnd.databricks.v1+cell": {
     "cellMetadata": {
      "byteLimit": 2048000,
      "rowLimit": 10000
     },
     "inputWidgets": {},
     "nuid": "6741f6b9-3d0b-4409-9d10-0406a8df0f11",
     "showTitle": false,
     "tableResultSettingsMap": {},
     "title": ""
    }
   },
   "outputs": [],
   "source": [
    "df=pd.read_csv('/Workspace/data/stratified_upsample.csv')"
   ]
  },
  {
   "cell_type": "code",
   "execution_count": 0,
   "metadata": {
    "application/vnd.databricks.v1+cell": {
     "cellMetadata": {
      "byteLimit": 2048000,
      "rowLimit": 10000
     },
     "inputWidgets": {},
     "nuid": "a9011922-8eca-4203-917f-07dfa190480c",
     "showTitle": false,
     "tableResultSettingsMap": {},
     "title": ""
    }
   },
   "outputs": [],
   "source": [
    "# # Save DataFrame as a table in Unity Catalog\n",
    "# spark_df = spark.createDataFrame(df)\n",
    "# spark_df.write.format(\"delta\").mode(\"overwrite\").saveAsTable(\"workspace.default.stratified_upsample\")"
   ]
  },
  {
   "cell_type": "code",
   "execution_count": 0,
   "metadata": {
    "application/vnd.databricks.v1+cell": {
     "cellMetadata": {
      "byteLimit": 2048000,
      "implicitDf": true,
      "rowLimit": 10000
     },
     "inputWidgets": {},
     "nuid": "a1627ec4-53b0-4281-882d-700c91ccc6a2",
     "showTitle": false,
     "tableResultSettingsMap": {},
     "title": ""
    }
   },
   "outputs": [],
   "source": [
    "%sql\n",
    "SELECT * FROM workspace.default.stratified_upsample\n",
    "-- WHERE\n",
    "--   location = 'Chicago, Illinois, United States'\n",
    "--   AND host_number_of_reviews > 1000\n",
    "--   AND EXISTS(reviews, review -> review ILIKE '%wheelchair%')\n",
    "LIMIT 5;"
   ]
  },
  {
   "cell_type": "code",
   "execution_count": 0,
   "metadata": {
    "application/vnd.databricks.v1+cell": {
     "cellMetadata": {
      "byteLimit": 2048000,
      "rowLimit": 10000
     },
     "inputWidgets": {},
     "nuid": "447c47b2-4597-4dca-b8b7-7276071b5196",
     "showTitle": false,
     "tableResultSettingsMap": {},
     "title": ""
    }
   },
   "outputs": [],
   "source": [
    "# configure workspace tokens\n",
    "w = WorkspaceClient()\n",
    "os.environ[\"DATABRICKS_HOST\"] = w.config.host\n",
    "os.environ[\"DATABRICKS_TOKEN\"] = w.tokens.create(comment=\"for model serving\", lifetime_seconds=1200).token_value\n",
    "\n",
    "llm = ChatDatabricks(endpoint=\"databricks-llama-4-maverick\")\n",
    "\n",
    "def format_context(df: pd.DataFrame) -> str:\n",
    "    \"\"\"\n",
    "    Converts the DataFrame into a JSON string to ensure all data is passed\n",
    "    to the model without truncation. JSON is also a great format for structured data\n",
    "    like you have in 'description_by_sections'.\n",
    "    \"\"\"\n",
    "    return df.to_json(orient='records', indent=2)\n",
    "\n",
    "def find_accessible_airbnb_properties(location: str) -> pd.DataFrame:\n",
    "  \"\"\"\n",
    "  Queries the patient dataset for patients at risk of osteoporosis based on multiple risk factors.\n",
    "  \"\"\"\n",
    "  query = f\"\"\"\n",
    "    SELECT\n",
    "      llm_data\n",
    "    FROM workspace.default.stratified_upsample\n",
    "    LIMIT 5\n",
    "  \"\"\"\n",
    "  return format_context(spark.sql(query).toPandas())\n",
    "\n",
    "# Define the prompt template for the LLM\n",
    "prompt_template = PromptTemplate.from_template(\n",
    "  \"\"\"\n",
    "  You are a medical assistant AI. Read the following information about ONE patient and classify the patient's osteoporosis risk level as exactly ONE of the following: Low, Medium, or High.\n",
    "\n",
    "Important rules:\n",
    "- Respond with ONE WORD ONLY: Low, Medium, or High.\n",
    "- Do NOT provide any explanation, reasoning, or extra text.\n",
    "- There is only ONE patient — do not describe multiple records.\n",
    "\n",
    "The patient information includes these details:\n",
    "- History of hip fracture (Yes/No)\n",
    "- History of spine fracture (Yes/No)\n",
    "- Other adult fractures (Yes/No)\n",
    "- Age at fracture (number)\n",
    "- Specific bones fractured (list)\n",
    "- DEXA scan performed (Yes/No, with date and location if available)\n",
    "- Fragility fracture after age 45 (Yes/No)\n",
    "- Low-trauma fracture at younger age (Yes/No)\n",
    "- Menopause status (Yes/No, age of onset, type if specified)\n",
    "- Ovaries removed (Yes/No)\n",
    "- Family history of osteoporosis (Yes/No)\n",
    "- Parental history of hip fracture (Yes/No)\n",
    "- Current smoking status (Yes/No)\n",
    "- History of smoking (Yes/No)\n",
    "- Excessive alcohol intake (Yes/No)\n",
    "- History of falls (Yes/No)\n",
    "- High-calcium diet (Yes/No)\n",
    "- Calcium supplements (Yes/No)\n",
    "- Vitamin D supplements (Yes/No)\n",
    "- Long-term steroid use (Yes/No)\n",
    "- Estrogen therapy (Yes/No or details)\n",
    "- Osteoporosis medications taken (Yes/No)\n",
    "- SSRI usage (Yes/No)\n",
    "- PPI usage (Yes/No)\n",
    "- Rheumatoid arthritis (Yes/No)\n",
    "- Hyperthyroidism (Yes/No)\n",
    "- Crohn’s or celiac disease (Yes/No)\n",
    "- Kidney disease or dialysis (Yes/No)\n",
    "- COPD (Yes/No)\n",
    "- HIV/AIDS (Yes/No)\n",
    "- Depression (Yes/No)\n",
    "- Diabetes (Yes/No)\n",
    "- Recent weight loss (Yes/No)\n",
    "- Height loss (Yes/No)\n",
    "- Spine surgery (Yes/No)\n",
    "- Hip surgery (Yes/No)\n",
    "- Gastric surgery (Yes/No)\n",
    "- Currently pregnant (Yes/No or unspecified)\n",
    "\n",
    "PATIENT INFORMATION:\n",
    "  Here is the patient data:\n",
    "  {context}\n",
    "  \"\"\"\n",
    ")\n",
    "\n",
    "llm = ChatDatabricks(endpoint=\"databricks-llama-4-maverick\")\n",
    "\n",
    "# This is our simple \"agentic\" chain\n",
    "chain = (\n",
    "    find_accessible_airbnb_properties\n",
    "    | prompt_template\n",
    "    | llm\n",
    "    | StrOutputParser()\n",
    ")\n",
    "\n",
    "# Let's run the chain for Chicago!\n",
    "# result = chain.invoke(\"Chicago\")\n",
    "\n",
    "# print(result)"
   ]
  },
  {
   "cell_type": "code",
   "execution_count": 0,
   "metadata": {
    "application/vnd.databricks.v1+cell": {
     "cellMetadata": {
      "byteLimit": 2048000,
      "rowLimit": 10000
     },
     "inputWidgets": {},
     "nuid": "a9a05b2e-7c26-41b9-8350-13240f67aa8e",
     "showTitle": false,
     "tableResultSettingsMap": {},
     "title": ""
    }
   },
   "outputs": [],
   "source": [
    "# Let's run the chain for Chicago!\n",
    "result = chain.invoke(\"The patient has reported a history of hip fracture Yes, spine fracture No, and other adult fractures No, with the fracture occurring at the age of 50. The specific bone that was fractured was the Hip (Proximal Femur). A DEXA scan has previously been performed Yes, with the most recent scan details noted as 2020 at General Hospital. The patient has experienced a fragility fracture after age 45 Yes and a low-trauma fracture at a younger age No. In terms of reproductive history, the patient is currently in menopause , which began at the age of , and is classified as  menopause. The ovaries have been removed . There is a family history of osteoporosis No and a parental history of hip fracture Yes. The patient's smoking status is currently No, with a history of smoking described as No. Alcohol intake is noted as excessive: No, and there is a history of falls Yes. The patient also has a history of No. Nutritional intake includes a high-calcium diet No, along with the use of calcium supplements Yes and vitamin D supplements No. Medically, the patient has a history of long-term steroid use Yes, estrogen therapy , and has taken osteoporosis medications No. The SSRI usage for the patient is No and PPI usage is Yes. Relevant medical conditions include rheumatoid arthritis No, hyperthyroidism No, Crohn’s or celiac disease No, kidney disease or dialysis No, COPD No, HIV/AIDS No, depression No, and diabetes No. The patient has recently experienced weight loss No and height loss No, and has undergone spine surgery No or hip surgery No or gastric surgery Yes. Lastly, it is noted whether the patient is currently pregnant .\")"
   ]
  },
  {
   "cell_type": "code",
   "execution_count": 0,
   "metadata": {
    "application/vnd.databricks.v1+cell": {
     "cellMetadata": {
      "byteLimit": 2048000,
      "rowLimit": 10000
     },
     "inputWidgets": {},
     "nuid": "12ef1249-fbd5-4bb3-8e13-0b23d27747a7",
     "showTitle": false,
     "tableResultSettingsMap": {},
     "title": ""
    }
   },
   "outputs": [],
   "source": [
    "result"
   ]
  },
  {
   "cell_type": "code",
   "execution_count": 0,
   "metadata": {
    "application/vnd.databricks.v1+cell": {
     "cellMetadata": {
      "byteLimit": 2048000,
      "rowLimit": 10000
     },
     "inputWidgets": {},
     "nuid": "7064f828-3603-41b1-a7e4-ce62e7ac7f01",
     "showTitle": false,
     "tableResultSettingsMap": {},
     "title": ""
    }
   },
   "outputs": [],
   "source": [
    "# Step 1: Install Git (if not already installed)\n",
    "!sudo apt-get install -y git"
   ]
  },
  {
   "cell_type": "code",
   "execution_count": 0,
   "metadata": {
    "application/vnd.databricks.v1+cell": {
     "cellMetadata": {},
     "inputWidgets": {},
     "nuid": "218b5205-c351-4f83-95be-21a15317342b",
     "showTitle": false,
     "tableResultSettingsMap": {},
     "title": ""
    }
   },
   "outputs": [],
   "source": [
    "# Step 2: Configure Git\n",
    "!git config --global user.name \"sidak1701\"\n",
    "!git config --global user.email \"ssidak52@gmail.com\"\n",
    "\n",
    "# Step 3: Initialize a Git repository\n",
    "!git init\n",
    "\n",
    "# Step 4: Add files to the repository\n",
    "!git add .\n",
    "\n",
    "# Step 5: Commit changes\n",
    "!git commit -m \"Initial commit of the notebook\"\n",
    "\n",
    "# Step 6: Push to GitHub\n",
    "# Replace <GitHubRepoURL> with your GitHub repository URL\n",
    "!git remote add origin https://github.com/sidak1701/DataBricks-Hackathon.git\n",
    "!git branch -M main\n",
    "!git push -u origin main"
   ]
  }
 ],
 "metadata": {
  "application/vnd.databricks.v1+notebook": {
   "computePreferences": null,
   "dashboards": [],
   "environmentMetadata": {
    "base_environment": "",
    "environment_version": "2"
   },
   "inputWidgetPreferences": null,
   "language": "python",
   "notebookMetadata": {
    "mostRecentlyExecutedCommandWithImplicitDF": {
     "commandId": 5044882024719331,
     "dataframes": [
      "_sqldf"
     ]
    },
    "pythonIndentUnit": 4
   },
   "notebookName": "Osteporosis-Stem",
   "widgets": {}
  },
  "language_info": {
   "name": "python"
  }
 },
 "nbformat": 4,
 "nbformat_minor": 0
}
